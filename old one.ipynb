{
 "cells": [
  {
   "cell_type": "markdown",
   "metadata": {},
   "source": [
    "# Projekt grupowy w ramach przedmiotu systemy zintegrowane"
   ]
  },
  {
   "cell_type": "markdown",
   "metadata": {},
   "source": [
    "### Projekt ma na celu utworzenie GHP zaimplementowanie algorytmu MRP. Przykładem jaki wybrała nasza grupa jest okno aluminiowe."
   ]
  },
  {
   "cell_type": "markdown",
   "metadata": {},
   "source": [
    "*Ważne informacje:*\n",
    "\n",
    "* Skład grupy projektowej:\n",
    "    1. Filip Kamiński 222820\n",
    "    1. Mateusz Czech _______\n",
    "    1. Jędrzej Sypka _______\n",
    "    1. Tymoteusz Polański _______\n",
    "* BOM dla okna załączony jest w plikach projektu jako pdf_ghp."
   ]
  },
  {
   "cell_type": "markdown",
   "metadata": {},
   "source": [
    "### Aby wyprodukować jedno okno, potrzebne jest:\n",
    "1. Szyby 2szt.\n",
    "1. Klamka 1szt.\n",
    "1. Rama aluminiowa 1szt.:\n",
    "    1. Gumowa uszczelka 2szt.\n",
    "    1. Profil aluminiowy 4szt.\n",
    "    1. Wsporniki narożne 4szt."
   ]
  },
  {
   "cell_type": "markdown",
   "metadata": {},
   "source": [
    "### Firma produkująca okno montuje je z gotowych elementów w czasie jednego tygodnia. W jednej partii produkowanych jest 10 okien na raz."
   ]
  },
  {
   "cell_type": "markdown",
   "metadata": {},
   "source": [
    "#### Czasy dostaw poszczególnych elementów to:\n",
    "* Szyby - 2 tygodnie\n",
    "* Klamki - 1 tydzień\n",
    "* Rama aluminiowa - 3 tygodnie\n",
    "* Gumwoa uszczelka - 1 tydzień\n",
    "* Profil aluminiowy -3 tygodnie\n",
    "* Wsporniki narożne - 2 tygodnie "
   ]
  },
  {
   "cell_type": "markdown",
   "metadata": {},
   "source": [
    "#### Wielkość partii poszczególnych elementów to:\n",
    "* Szyby - 10 szt\n",
    "* Klamki - 30 szt\n",
    "* Rama aluminiowa - 16 szt\n",
    "* Gumwoa uszczelka - 30 szt\n",
    "* Profil aluminiowy -20 szt\n",
    "* Wsporniki narożne - 80 szt "
   ]
  },
  {
   "cell_type": "markdown",
   "metadata": {},
   "source": [
    "#### W celu stworzenia GHP (Główny harmonogram produkcji) oraz rekordów MRP dla podzespołów należy podać następujące dane:"
   ]
  },
  {
   "cell_type": "markdown",
   "metadata": {},
   "source": [
    "#### Podaj w których tygodniach okna mają zostać dostarczone do klienta (wartości od 1 do 10)\n",
    "##### Przykład: '1,3'"
   ]
  },
  {
   "cell_type": "code",
   "execution_count": 120,
   "metadata": {},
   "outputs": [],
   "source": [
    "weeksStr = input(\"Podaj tygodnie w których okna mają zostać dostarczone\")\n",
    "weeks = []\n",
    "num = \"\"\n",
    "for char in weeksStr:\n",
    "    if(char != ','):\n",
    "        num += char\n",
    "    else:\n",
    "        weeks.append(int(num))\n",
    "        num = \"\"\n",
    "weeks.append(int(num))"
   ]
  },
  {
   "cell_type": "markdown",
   "metadata": {},
   "source": [
    "#### Podaj ile okien ma zostać dostarczone do klienta, zgodnie z kolejnością podanych wcześniej tygodni\n",
    "##### Przykład: '10,17' co oznacza, że w pierwszym tygodniu ma zostać dostarczone 10 okien a w trzecim 17\n"
   ]
  },
  {
   "cell_type": "code",
   "execution_count": 121,
   "metadata": {},
   "outputs": [],
   "source": [
    "amountsPerWeekSrt = input(\"Podaj ile okien ma zostać dostarczone do klienta\")\n",
    "amountsPerWeek = []\n",
    "num = \"\"\n",
    "for char in amountsPerWeekSrt:\n",
    "    if(char != ','):\n",
    "        num += char\n",
    "    else:\n",
    "        amountsPerWeek.append(int(num))\n",
    "        num = \"\"\n",
    "amountsPerWeek.append(int(num))"
   ]
  },
  {
   "cell_type": "markdown",
   "metadata": {},
   "source": [
    "#### Podaj gotowych okien i komponentów posiada firma"
   ]
  },
  {
   "cell_type": "code",
   "execution_count": 122,
   "metadata": {},
   "outputs": [],
   "source": [
    "windowsOnHand = input(\"Podaj ilośc gotowych okien znajdujących się w magazynie\")\n",
    "glassOnHand = input(\"Podaj ilośc gotowych szyb znajdujących się w magazynie\")\n",
    "\n"
   ]
  },
  {
   "cell_type": "markdown",
   "metadata": {},
   "source": [
    "#### Poniżej zawarty jest kod tworzący tabelę GHP na podstawie dostarczonych danych"
   ]
  },
  {
   "cell_type": "code",
   "execution_count": 123,
   "metadata": {},
   "outputs": [],
   "source": [
    "import pandas as pd\n",
    "\n",
    "# scaffolding for table\n",
    "data = [\n",
    "    [\"Tydzień: \", '1  ', '2  ', '3  ', '4  ', '5  ', '6  ', '7  ', '8  ', '9  ', '10  '],\n",
    "    [\"Przewidywany popyt: \"],\n",
    "    [\"Produkcja: \"],\n",
    "    [\"Dostępne: \"]\n",
    "]\n",
    "\n",
    "# Create the DataFrame\n",
    "df_ghp = pd.DataFrame(data)\n",
    "\n",
    "# reassign variable to avoid overriding it\n",
    "windowsOnHandLoc = windowsOnHand\n",
    "\n",
    "for el in range(0, len(weeks)):\n",
    "    df_ghp.iloc[1,weeks[el]] = str(amountsPerWeek[el]) + \"  \"\n",
    "    \n",
    "\n",
    "\n",
    "# Show time of production and windowsOnHand\n",
    "df_ghp.loc[4,0] = \"Czas wykonania: \"\n",
    "df_ghp.loc[4,1] = \"1\" + \"  \"\n",
    "\n",
    "df_ghp.loc[5,0] = \"Na stanie: \"\n",
    "df_ghp.loc[5,1] = str(windowsOnHandLoc) + \"  \"\n",
    "\n",
    "# Algorithm \n",
    "for col in range (1, 11):\n",
    "    if (df_ghp.loc[1,col] == None):\n",
    "        df_ghp.loc[3,col] = str(windowsOnHandLoc) + \"  \"\n",
    "    else:\n",
    "        if (int(int(df_ghp.loc[3,col-1]) - int(df_ghp.loc[1,col]) > 0) ):\n",
    "            windowsOnHandLoc = int(df_ghp.loc[3,col - 1]) - int(df_ghp.loc[1,col])\n",
    "            df_ghp.loc[3,col] = str(windowsOnHandLoc) + \"  \"\n",
    "        else:\n",
    "            windowsOnHandLoc = int(df_ghp.loc[3,col - 1]) - int(df_ghp.loc[1,col]) + 10\n",
    "            df_ghp.loc[2,col] = \"10  \"\n",
    "            df_ghp.loc[3,col] = str(windowsOnHandLoc) + \"  \"\n",
    "\n",
    "# Remove None\n",
    "df_ghp_wo_None = df_ghp.fillna(\"   \")\n",
    "\n",
    "\n",
    "\n",
    "# # Print the DataFrame\n",
    "# print(\"GHP:\\n\")\n",
    "# print(df_ghp_wo_None.to_string(index=False, header=False))\n",
    "\n",
    "\n",
    "\n",
    "\n"
   ]
  },
  {
   "cell_type": "markdown",
   "metadata": {},
   "source": [
    "#### Następnie tworzona jest tabela na podstawie algorytmu MRP, dla poszczególnych elementów z pierwszego poziomu BOM"
   ]
  },
  {
   "cell_type": "markdown",
   "metadata": {},
   "source": [
    "##### Tabela dla MRP na której bazują poszczególne tabele"
   ]
  },
  {
   "cell_type": "code",
   "execution_count": 127,
   "metadata": {},
   "outputs": [
    {
     "name": "stdout",
     "output_type": "stream",
     "text": [
      "MRP:\n",
      "\n",
      "                     Tydzień:  1   2   3   4   5   6   7   8   9   10  \n",
      "    Cakowite zapotrzebowanie:                                          \n",
      "         Planowane przyjęcia:                                          \n",
      "      Przewidywane na stanie:                                          \n",
      "       Zapotrzebowanie netto:                                          \n",
      "        Planowane zamówienia:                                          \n",
      "Planowane przyjęcie zamówień:                                          \n"
     ]
    }
   ],
   "source": [
    "#scaffolding for table\n",
    "data_for_mrp = [\n",
    "    [\"Tydzień: \", '1  ', '2  ', '3  ', '4  ', '5  ', '6  ', '7  ', '8  ', '9  ', '10  '],\n",
    "    [\"Cakowite zapotrzebowanie: \"],\n",
    "    [\"Planowane przyjęcia: \"],\n",
    "    [\"Przewidywane na stanie: \"],\n",
    "    [\"Zapotrzebowanie netto: \"],\n",
    "    [\"Planowane zamówienia: \"],\n",
    "    [\"Planowane przyjęcie zamówień: \"]\n",
    "]\n",
    "\n",
    "df_mrp = pd.DataFrame(data_for_mrp)\n",
    "\n",
    "# Remove None\n",
    "df_mrp = df_mrp.fillna(\"   \")\n",
    "\n",
    "# Print the DataFrame\n",
    "print(\"MRP:\\n\")\n",
    "print(df_mrp.to_string(index=False, header=False))\n",
    "\n",
    "with pd.ExcelWriter('output.xlsx') as writer:\n",
    "    df_ghp_wo_None.to_excel(writer, sheet_name='GHP',index=False, header=False,float_format=\"%.2f\")\n",
    "    df_mrp.to_excel(writer, sheet_name='Pusty MRP',index=False, header=False,float_format=\"%.2f\")\n"
   ]
  },
  {
   "cell_type": "markdown",
   "metadata": {},
   "source": [
    "#### Tabela dla szyb"
   ]
  },
  {
   "cell_type": "code",
   "execution_count": 125,
   "metadata": {},
   "outputs": [
    {
     "name": "stdout",
     "output_type": "stream",
     "text": [
      "MRP Szyba:\n",
      "\n",
      "                     Tydzień:  1   2   3   4   5    6   7   8   9   10  \n",
      "    Cakowite zapotrzebowanie:                      10                   \n",
      "         Planowane przyjęcia:                                           \n",
      "      Przewidywane na stanie:    3   3   3   3   3   -7  -7  -7  -7   -7\n",
      "       Zapotrzebowanie netto:                                           \n",
      "        Planowane zamówienia:                                           \n",
      "Planowane przyjęcie zamówień:                                           \n",
      "             Czas realizacji:  2                                        \n",
      "             Wielkość partii:  10                                       \n",
      "                  Poziom BOM:  1                                        \n",
      "                   Na stanie:  3                                        \n"
     ]
    }
   ],
   "source": [
    "df_glass = pd.DataFrame(data_for_mrp)\n",
    "\n",
    "df_glass.loc[7,0] = \"Czas realizacji: \"\n",
    "df_glass.loc[7,1] = \"2\" + \"  \"\n",
    "\n",
    "df_glass.loc[8,0] = \"Wielkość partii: \"\n",
    "df_glass.loc[8,1] = \"10\" + \" \"\n",
    "\n",
    "df_glass.loc[9,0] = \"Poziom BOM: \"\n",
    "df_glass.loc[9,1] = \"1\" + \"  \"\n",
    "\n",
    "df_glass.loc[10,0] = \"Na stanie: \"\n",
    "df_glass.loc[10,1] = str(glassOnHand) + \"  \"\n",
    "\n",
    "# Algorithm \n",
    "for col in range(1,11):\n",
    "    if (df_ghp.iloc[2,col] == None):\n",
    "        df_glass.iloc[1,col] == None\n",
    "    else:\n",
    "        df_glass.iloc[1,col-1] = df_ghp.iloc[2,col]\n",
    "\n",
    "for col in range(1,11):\n",
    "    if(df_glass.iloc[1,col] != None):\n",
    "        df_glass.iloc[3,col] = int(df_glass.iloc[3,col-1]) - int(df_glass.iloc[1,col])\n",
    "        glassOnHand=int(glassOnHand) - int(df_glass.iloc[1,col])\n",
    "    else:\n",
    "        df_glass.iloc[3,col] = glassOnHand\n",
    "\n",
    "\n",
    "\n",
    "df_glass = df_glass.fillna(\"   \")\n",
    "\n",
    "# Print the DataFrame\n",
    "print(\"MRP Szyba:\\n\")\n",
    "print(df_glass.to_string(index=False, header=False))\n"
   ]
  },
  {
   "cell_type": "code",
   "execution_count": null,
   "metadata": {},
   "outputs": [],
   "source": []
  }
 ],
 "metadata": {
  "kernelspec": {
   "display_name": "Python 3",
   "language": "python",
   "name": "python3"
  },
  "language_info": {
   "codemirror_mode": {
    "name": "ipython",
    "version": 3
   },
   "file_extension": ".py",
   "mimetype": "text/x-python",
   "name": "python",
   "nbconvert_exporter": "python",
   "pygments_lexer": "ipython3",
   "version": "3.11.8"
  }
 },
 "nbformat": 4,
 "nbformat_minor": 2
}
