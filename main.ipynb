{
 "cells": [
  {
   "cell_type": "markdown",
   "metadata": {},
   "source": [
    "# Projekt grupowy w ramach przedmiotu systemy zintegrowane"
   ]
  },
  {
   "cell_type": "markdown",
   "metadata": {},
   "source": [
    "### Projekt ma na celu utworzenie GHP zaimplementowanie algorytmu MRP. Przykładem jaki wybrała nasza grupa jest okno aluminiowe."
   ]
  },
  {
   "cell_type": "markdown",
   "metadata": {},
   "source": [
    "*Ważne informacje:*\n",
    "\n",
    "* Skład grupy projektowej:\n",
    "    1. Filip Kamiński 222820\n",
    "    1. Mateusz Czech _______\n",
    "    1. Jędrzej Sypka _______\n",
    "    1. Tymoteusz Polański _______\n",
    "* BOM dla okna załączony jest w plikach projektu jako pdf."
   ]
  },
  {
   "cell_type": "markdown",
   "metadata": {},
   "source": [
    "### Aby wyprodukować jedno okno, potrzebne jest:\n",
    "1. Szyby 2szt.\n",
    "1. Klamka 1szt.\n",
    "1. Rama aluminiowa 1szt.:\n",
    "    1. Gumowa uszczelka 2szt.\n",
    "    1. Profil aluminiowy 4szt.\n",
    "    1. Wsporniki narożne 4szt."
   ]
  },
  {
   "cell_type": "markdown",
   "metadata": {},
   "source": [
    "### Firma produkująca okno montuje je z gotowych elementów w czasie jednego tygodnia. W jednej partii produkowanych jest 10 okien na raz."
   ]
  },
  {
   "cell_type": "markdown",
   "metadata": {},
   "source": [
    "#### Czasy dostaw poszczególnych elementów to:\n",
    "* Szyby - 2 tygodnie\n",
    "* Klamki - 1 tydzień\n",
    "* Rama aluminiowa - 3 tygodnie\n",
    "* Gumwoa uszczelka - 1 tydzień\n",
    "* Profil aluminiowy -3 tygodnie\n",
    "* Wsporniki narożne - 2 tygodnie "
   ]
  },
  {
   "cell_type": "markdown",
   "metadata": {},
   "source": [
    "#### W celu stworzenia GHP (Główny harmonogram produkcji) oraz rekordów MRP dla podzespołów należy podać następujące dane:"
   ]
  },
  {
   "cell_type": "code",
   "execution_count": 143,
   "metadata": {},
   "outputs": [],
   "source": [
    "# Podaj w których tygodniach okna mają zostać dostarczone do klienta (wartości od 1 do 10)\n",
    "# Przykład: '1,3'\n",
    "\n",
    "weeksStr = input(\"Podaj tygodnie w których okna mają zostać dostarczone\")\n",
    "weeks = []\n",
    "num = \"\"\n",
    "for char in weeksStr:\n",
    "    if(char != ','):\n",
    "        num += char\n",
    "    else:\n",
    "        weeks.append(int(num))\n",
    "        num = \"\"\n",
    "weeks.append(int(num))"
   ]
  },
  {
   "cell_type": "code",
   "execution_count": 150,
   "metadata": {},
   "outputs": [],
   "source": [
    "# Podaj ile okien ma zostać dostarczone do klienta, zgodnie z kolejnością podanych wcześniej tygodni\n",
    "# Przykład: '10,17' co oznacza, że w pierwszym tygodniu ma zostać dostarczone 10 okien a w trzecim 17\n",
    "\n",
    "amountsPerWeekSrt = input(\"Podaj ile okien ma zostać dostarczone do klienta\")\n",
    "amountsPerWeek = []\n",
    "num = \"\"\n",
    "for char in amountsPerWeekSrt:\n",
    "    if(char != ','):\n",
    "        num += char\n",
    "    else:\n",
    "        amountsPerWeek.append(int(num))\n",
    "        num = \"\"\n",
    "amountsPerWeek.append(int(num))"
   ]
  },
  {
   "cell_type": "code",
   "execution_count": 145,
   "metadata": {},
   "outputs": [],
   "source": [
    "# Podaj ile gotowych okien firma posiada aktualnie w magazynie\n",
    "\n",
    "onHand = input(\"Podaj ilośc gotowych okien znajdujących się w magazynie\")"
   ]
  },
  {
   "cell_type": "markdown",
   "metadata": {},
   "source": [
    "#### Poniżej zawarty jest kod tworzący tabelę GHP na podstawie dostarczonych danych"
   ]
  },
  {
   "cell_type": "code",
   "execution_count": 151,
   "metadata": {},
   "outputs": [
    {
     "name": "stdout",
     "output_type": "stream",
     "text": [
      "GHP:\n",
      "\n",
      "           Tydzień:  1   2   3   4   5   6   7    8   9   10  \n",
      "Przewidywany popyt:                  7            6           \n",
      "         Produkcja:                              10           \n",
      "          Dostępne:  8   8   8   8   1   1   1    5   5    5  \n",
      "    Czas wykonania:  1                                        \n",
      "         Na stanie:  8                                        \n"
     ]
    }
   ],
   "source": [
    "import pandas as pd\n",
    "\n",
    "# scaffolding for table\n",
    "data = [\n",
    "    [\"Tydzień: \", '1  ', '2  ', '3  ', '4  ', '5  ', '6  ', '7  ', '8  ', '9  ', '10  '],\n",
    "    [\"Przewidywany popyt: \"],\n",
    "    [\"Produkcja: \"],\n",
    "    [\"Dostępne: \"]\n",
    "]\n",
    "\n",
    "# Create the DataFrame\n",
    "df = pd.DataFrame(data)\n",
    "\n",
    "# reassign variable to avoid overriding it\n",
    "onHandLoc = onHand\n",
    "\n",
    "for el in range(0, len(weeks)):\n",
    "    df.iloc[1,weeks[el]] = str(amountsPerWeek[el]) + \"  \"\n",
    "    \n",
    "\n",
    "\n",
    "# Show time of production and onHand\n",
    "df.loc[4,0] = \"Czas wykonania: \"\n",
    "df.loc[4,1] = \"1\" + \"  \"\n",
    "\n",
    "df.loc[5,0] = \"Na stanie: \"\n",
    "df.loc[5,1] = str(onHandLoc) + \"  \"\n",
    "\n",
    "# Algorithm \n",
    "for col in range (1, 11):\n",
    "    if (df.loc[1,col] == None):\n",
    "        df.loc[3,col] = str(onHandLoc) + \"  \"\n",
    "    else:\n",
    "        if (int(int(df.loc[3,col-1]) - int(df.loc[1,col]) > 0) ):\n",
    "            onHandLoc = int(df.loc[3,col - 1]) - int(df.loc[1,col])\n",
    "            df.loc[3,col] = str(onHandLoc) + \"  \"\n",
    "        else:\n",
    "            onHandLoc = int(df.loc[3,col - 1]) - int(df.loc[1,col]) + 10\n",
    "            df.loc[2,col] = \"10  \"\n",
    "            df.loc[3,col] = str(onHandLoc) + \"  \"\n",
    "\n",
    "# Remove None\n",
    "df = df = df.fillna(\"   \")\n",
    "\n",
    "# Print the DataFrame\n",
    "print(\"GHP:\\n\")\n",
    "print(df.to_string(index=False, header=False))\n",
    "\n",
    "\n",
    "\n",
    "\n"
   ]
  }
 ],
 "metadata": {
  "kernelspec": {
   "display_name": "Python 3",
   "language": "python",
   "name": "python3"
  },
  "language_info": {
   "codemirror_mode": {
    "name": "ipython",
    "version": 3
   },
   "file_extension": ".py",
   "mimetype": "text/x-python",
   "name": "python",
   "nbconvert_exporter": "python",
   "pygments_lexer": "ipython3",
   "version": "3.11.8"
  }
 },
 "nbformat": 4,
 "nbformat_minor": 2
}
