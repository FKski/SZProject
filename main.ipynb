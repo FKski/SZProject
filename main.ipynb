{
 "cells": [
  {
   "cell_type": "markdown",
   "metadata": {},
   "source": [
    "# Projekt grupowy w ramach przedmiotu systemy zintegrowane"
   ]
  },
  {
   "cell_type": "markdown",
   "metadata": {},
   "source": [
    "### Projekt ma na celu utworzenie GHP zaimplementowanie algorytmu MRP. Przykładem jaki wybrała nasza grupa jest okno aluminiowe."
   ]
  },
  {
   "cell_type": "markdown",
   "metadata": {},
   "source": [
    "*Ważne informacje:*\n",
    "\n",
    "* Skład grupy projektowej:\n",
    "    1. Filip Kamiński 222820\n",
    "    1. Mateusz Czech 222821\n",
    "    1. Jędrzej Sypka 222167\n",
    "    1. Tymoteusz Polański 222733\n",
    "* BOM dla okna załączony jest w plikach projektu jako pdf_ghp."
   ]
  },
  {
   "cell_type": "markdown",
   "metadata": {},
   "source": [
    "### Aby wyprodukować jedno okno, potrzebne jest:\n",
    "1. Szyby 2szt.\n",
    "1. Klamka 1szt.\n",
    "1. Rama aluminiowa 1szt.:\n",
    "    1. Gumowa uszczelka 2szt.\n",
    "    1. Profil aluminiowy 4szt.\n",
    "    1. Wsporniki narożne 4szt."
   ]
  },
  {
   "cell_type": "markdown",
   "metadata": {},
   "source": [
    "### Firma produkująca okno montuje je z gotowych elementów w czasie jednego tygodnia. W jednej partii produkowanych jest 10 okien na raz."
   ]
  },
  {
   "cell_type": "markdown",
   "metadata": {},
   "source": [
    "#### Czasy dostaw poszczególnych elementów to:\n",
    "* Szyby - 2 tygodnie\n",
    "* Klamki - 1 tydzień\n",
    "* Rama aluminiowa - 3 tygodnie\n",
    "* Gumowa uszczelka - 1 tydzień\n",
    "* Profil aluminiowy -2 tygodnie\n",
    "* Wsporniki narożne - 2 tygodnie "
   ]
  },
  {
   "cell_type": "markdown",
   "metadata": {},
   "source": [
    "#### Wielkość partii poszczególnych elementów to:\n",
    "* Szyby - 10 szt\n",
    "* Klamki - 30 szt\n",
    "* Rama aluminiowa - 16 szt\n",
    "* Gumowa uszczelka - 30 szt\n",
    "* Profil aluminiowy -20 szt\n",
    "* Wsporniki narożne - 80 szt "
   ]
  },
  {
   "cell_type": "markdown",
   "metadata": {},
   "source": [
    "#### W celu stworzenia GHP (Główny harmonogram produkcji) oraz rekordów MRP dla podzespołów należy podać następujące dane:"
   ]
  },
  {
   "cell_type": "markdown",
   "metadata": {},
   "source": [
    "#### Podaj w których tygodniach okna mają zostać dostarczone do klienta (wartości od 1 do 10)\n",
    "##### Przykład: '1,3'"
   ]
  },
  {
   "cell_type": "code",
   "execution_count": 35,
   "metadata": {},
   "outputs": [],
   "source": [
    "weeksStr = input(\"Podaj tygodnie w których okna mają zostać dostarczone\")\n",
    "weeks = []\n",
    "num = \"\"\n",
    "for char in weeksStr:\n",
    "    if(char != ','):\n",
    "        num += char\n",
    "    else:\n",
    "        weeks.append(int(num))\n",
    "        num = \"\"\n",
    "weeks.append(int(num))"
   ]
  },
  {
   "cell_type": "markdown",
   "metadata": {},
   "source": [
    "#### Podaj ile okien ma zostać dostarczone do klienta, zgodnie z kolejnością podanych wcześniej tygodni\n",
    "##### Przykład: '10,17' co oznacza, że w pierwszym tygodniu ma zostać dostarczone 10 okien a w trzecim 17\n"
   ]
  },
  {
   "cell_type": "code",
   "execution_count": 36,
   "metadata": {},
   "outputs": [],
   "source": [
    "amountsPerWeekSrt = input(\"Podaj ile okien ma zostać dostarczone do klienta\")\n",
    "amountsPerWeek = []\n",
    "num = \"\"\n",
    "for char in amountsPerWeekSrt:\n",
    "    if(char != ','):\n",
    "        num += char\n",
    "    else:\n",
    "        amountsPerWeek.append(int(num))\n",
    "        num = \"\"\n",
    "amountsPerWeek.append(int(num))"
   ]
  },
  {
   "cell_type": "markdown",
   "metadata": {},
   "source": [
    "#### Podaj ile gotowych okien i komponentów posiada firma"
   ]
  },
  {
   "cell_type": "code",
   "execution_count": 37,
   "metadata": {},
   "outputs": [],
   "source": [
    "windowsOnHand = input(\"Podaj ilośc gotowych okien znajdujących się w magazynie\")\n"
   ]
  },
  {
   "cell_type": "code",
   "execution_count": null,
   "metadata": {},
   "outputs": [],
   "source": [
    "glassOnHand = input(\"Podaj ilośc gotowych szyb znajdujących się w magazynie\")\n"
   ]
  },
  {
   "cell_type": "code",
   "execution_count": null,
   "metadata": {},
   "outputs": [],
   "source": [
    "framesOnHand = input(\"Podaj ilośc gotowych ram znajdujących się w magazynie\")\n"
   ]
  },
  {
   "cell_type": "code",
   "execution_count": null,
   "metadata": {},
   "outputs": [],
   "source": [
    "handlesOnHand = input(\"Podaj ilośc gotowych klamek znajdujących się w magazynie\")\n"
   ]
  },
  {
   "cell_type": "code",
   "execution_count": null,
   "metadata": {},
   "outputs": [],
   "source": [
    "rubberSealOnHand = input(\"Podaj ilośc gotowych uszczelek gumowych znajdujących się w magazynie\")\n"
   ]
  },
  {
   "cell_type": "code",
   "execution_count": null,
   "metadata": {},
   "outputs": [],
   "source": [
    "aluminiumProfileOnHand = input(\"Podaj ilośc gotowych profili aluminiowych znajdujących się w magazynie\")\n"
   ]
  },
  {
   "cell_type": "code",
   "execution_count": null,
   "metadata": {},
   "outputs": [],
   "source": [
    "cornerSupporOnHand = input(\"Podaj ilośc gotowych wsporników narożnych znajdujących się w magazynie\")\n"
   ]
  },
  {
   "cell_type": "markdown",
   "metadata": {},
   "source": [
    "### Poniżej utworzona zostanie tabela GHP"
   ]
  },
  {
   "cell_type": "code",
   "execution_count": 38,
   "metadata": {},
   "outputs": [
    {
     "name": "stdout",
     "output_type": "stream",
     "text": [
      "                   0  1  2  3  4  5  6   7  8   9   10\n",
      "0             Tydzień  1  2  3  4  5  6   7  8   9  10\n",
      "1  Przewidywany popyt                    12      8    \n",
      "2           Produkcja                    10     10    \n",
      "3            Dostępne  8  8  8  8  8  8   6  6   8   8\n",
      "4     Czas realizacji  1                              \n",
      "5           Na stanie  8                              \n"
     ]
    }
   ],
   "source": [
    "import pandas as pd\n",
    "import numpy as np\n",
    "\n",
    "# Specify the dimensions of the DataFrame\n",
    "num_rows = 6\n",
    "num_cols = 11\n",
    "\n",
    "# Create an empty DataFrame with specified dimensions\n",
    "df_ghp = pd.DataFrame(index=range(num_rows), columns=range(num_cols))\n",
    "df_ghp = df_ghp.fillna('')\n",
    "\n",
    "# Create weeks row\n",
    "df_ghp.iloc[0,0] = 'Tydzień'\n",
    "for week in range(1,11):\n",
    "    df_ghp.iloc[0,week] = week\n",
    "\n",
    "# Create demand row\n",
    "df_ghp.iloc[1,0] = 'Przewidywany popyt'\n",
    "\n",
    "weekAmt = 0\n",
    "for week in weeks:\n",
    "    df_ghp.iloc[1,week] = amountsPerWeek[weekAmt]\n",
    "    weekAmt+=1\n",
    "\n",
    "# Create production row\n",
    "df_ghp.iloc[2,0] = 'Produkcja'\n",
    "\n",
    "# Create available row\n",
    "df_ghp.iloc[3,0] = 'Dostępne'\n",
    "df_ghp.iloc[3,1] = int(windowsOnHand)\n",
    "\n",
    "for week in range(2,11):\n",
    "    if df_ghp.iloc[1,week] != '':\n",
    "        df_ghp.iloc[3,week]=df_ghp.iloc[3,week-1] -df_ghp.iloc[1,week] \n",
    "                \n",
    "        if df_ghp.iloc[3,week] < 0:\n",
    "                df_ghp.iloc[2,week] = 10\n",
    "                df_ghp.iloc[3,week] += 10\n",
    "\n",
    "    else:\n",
    "        df_ghp.iloc[3,week]=df_ghp.iloc[3,week-1]\n",
    "        if df_ghp.iloc[3,week] < 0:\n",
    "                df_ghp.iloc[2,week] = 10\n",
    "                df_ghp.iloc[3,week] += 10\n",
    "\n",
    "    \n",
    "\n",
    "# Create production time row\n",
    "df_ghp.iloc[4,0] = 'Czas realizacji'\n",
    "df_ghp.iloc[4,1] = 1\n",
    "\n",
    "\n",
    "# Create on hand row\n",
    "df_ghp.iloc[5,0] = 'Na stanie'\n",
    "df_ghp.iloc[5,1] = int(windowsOnHand)\n",
    "\n",
    "print(df_ghp)\n",
    "\n"
   ]
  },
  {
   "cell_type": "markdown",
   "metadata": {},
   "source": [
    "### Poniżej utworzone zostaną tabele z pierwszym poziomem BOM, na podstawie tabeli GHP\n"
   ]
  },
  {
   "cell_type": "code",
   "execution_count": 44,
   "metadata": {},
   "outputs": [
    {
     "name": "stdout",
     "output_type": "stream",
     "text": [
      "                              0   1  2  3   4   5   6   7   8   9   10\n",
      "0                        Tydzień   1  2  3   4   5   6   7   8   9  10\n",
      "1      Całkowite zapotrzebowanie                    20      20        \n",
      "2            Planowane przyjęcia                                      \n",
      "3         Przewidywane na stanie   5  5  5   5   5  -5   5  -5   5   5\n",
      "4          Zapotrzebowanie netto                    15   5  15   5    \n",
      "5           Planowane zamówienia            10  10  10  10            \n",
      "6   Planowane przyjęcie zamówień                    10  10  10  10    \n",
      "7                Czas realizacji   2                                  \n",
      "8                Wielkość partii  10                                  \n",
      "9                     Poziom BOM   1                                  \n",
      "10                     Na stanie   5                                  \n",
      "11     Ilość w gotowym produkcie   2                                  \n",
      "\n",
      "\n",
      "                              0   1   2   3   4   5   6   7   8   9   10\n",
      "0                        Tydzień   1   2   3   4   5   6   7   8   9  10\n",
      "1      Całkowite zapotrzebowanie                      10      10        \n",
      "2            Planowane przyjęcia                                        \n",
      "3         Przewidywane na stanie  18  18  18  18  18   8   8  28  28  28\n",
      "4          Zapotrzebowanie netto                               2        \n",
      "5           Planowane zamówienia                          30            \n",
      "6   Planowane przyjęcie zamówień                              30        \n",
      "7                Czas realizacji   1                                    \n",
      "8                Wielkość partii  30                                    \n",
      "9                     Poziom BOM   1                                    \n",
      "10                     Na stanie  18                                    \n",
      "11     Ilość w gotowym produkcie   1                                    \n",
      "\n",
      "\n",
      "                              0   1  2   3  4  5   6   7   8  9   10\n",
      "0                        Tydzień   1  2   3  4  5   6   7   8  9  10\n",
      "1      Całkowite zapotrzebowanie                   10      10       \n",
      "2            Planowane przyjęcia                                    \n",
      "3         Przewidywane na stanie   8  8   8  8  8  14  14   4  4   4\n",
      "4          Zapotrzebowanie netto                    2               \n",
      "5           Planowane zamówienia         16                         \n",
      "6   Planowane przyjęcie zamówień                   16               \n",
      "7                Czas realizacji   3                                \n",
      "8                Wielkość partii  16                                \n",
      "9                     Poziom BOM   1                                \n",
      "10                     Na stanie   8                                \n",
      "11     Ilość w gotowym produkcie   1                                \n",
      "\n",
      "\n"
     ]
    }
   ],
   "source": [
    "# Specify the dimensions of the DataFrame\n",
    "num_rows = 12\n",
    "num_cols = 11\n",
    "\n",
    "# Create an empty DataFrame with specified dimensions\n",
    "df_glass = pd.DataFrame(index=range(num_rows), columns=range(num_cols))\n",
    "df_glass = df_glass.fillna('')\n",
    "\n",
    "# Create an empty DataFrame with specified dimensions\n",
    "df_handle = pd.DataFrame(index=range(num_rows), columns=range(num_cols))\n",
    "df_handle = df_handle.fillna('')\n",
    "\n",
    "# Create an empty DataFrame with specified dimensions\n",
    "df_frame = pd.DataFrame(index=range(num_rows), columns=range(num_cols))\n",
    "df_frame = df_frame.fillna('')\n",
    "\n",
    "df_list = [df_glass,df_handle,df_frame]\n",
    "\n",
    "for df in df_list:\n",
    "\n",
    "    df.iloc[0,0] = 'Tydzień'\n",
    "    # Set up weeks numbers\n",
    "    for week in range(1,11):\n",
    "        df.iloc[0,week] = week\n",
    "\n",
    "    df.iloc[1,0] = 'Całkowite zapotrzebowanie'\n",
    "    df.iloc[2,0] = 'Planowane przyjęcia'\n",
    "    df.iloc[3,0] = 'Przewidywane na stanie'\n",
    "    df.iloc[4,0] = 'Zapotrzebowanie netto'\n",
    "    df.iloc[5,0] = 'Planowane zamówienia'\n",
    "    df.iloc[6,0] = 'Planowane przyjęcie zamówień'\n",
    "    df.iloc[7,0] = 'Czas realizacji'\n",
    "    df.iloc[8,0] = 'Wielkość partii'\n",
    "    df.iloc[9,0] = 'Poziom BOM'\n",
    "    df.iloc[9,1] = 1\n",
    "    df.iloc[10,0] = 'Na stanie'\n",
    "    df.iloc[11,0] = 'Ilość w gotowym produkcie'\n",
    "\n",
    "# Set up on hand qty\n",
    "df_glass.iloc[10,1] = int(glassOnHand)\n",
    "df_handle.iloc[10,1] = int(handlesOnHand)\n",
    "df_frame.iloc[10,1] = int(framesOnHand)\n",
    "\n",
    "# Set up lot size\n",
    "df_glass.iloc[8,1] = 10\n",
    "df_handle.iloc[8,1] = 30\n",
    "df_frame.iloc[8,1] = 16\n",
    "\n",
    "# Set up production time\n",
    "df_glass.iloc[7,1] = 2\n",
    "df_handle.iloc[7,1] = 1\n",
    "df_frame.iloc[7,1] = 3\n",
    "\n",
    "# Set up qty in ready product\n",
    "df_glass.iloc[11,1] = 2\n",
    "df_handle.iloc[11,1] = 1\n",
    "df_frame.iloc[11,1] = 1\n",
    "\n",
    "# Bring needed values from GHP to each table\n",
    "for df in df_list:\n",
    "    for week in range (1,11):\n",
    "        if df_ghp.iloc[2,week] != '':\n",
    "            df.iloc[1,week-1] = df_ghp.iloc[2,week] * df.iloc[11,1]\n",
    "\n",
    "# Set up predicted on hand\n",
    "for df in df_list:\n",
    "    df.iloc[3,1]=df.iloc[10,1]\n",
    "    for week in range(2,11):\n",
    "        if df.iloc[1,week] != '':\n",
    "            df.iloc[3,week] = df.iloc[3,week-1] - df.iloc[1,week]\n",
    "            if df.iloc[3,week] < 0:\n",
    "                df.iloc[4,week] = df.iloc[3,week] * -1\n",
    "                df.iloc[6,week] = df.iloc[8,1]\n",
    "                df.iloc[3,week] += df.iloc[8,1]\n",
    "                if(week-df.iloc[7,1] > 0):\n",
    "                    df.iloc[5,week-df.iloc[7,1]] = df.iloc[8,1]\n",
    "            None\n",
    "        else:\n",
    "            df.iloc[3,week] = df.iloc[3,week-1]\n",
    "            if df.iloc[3,week] < 0:\n",
    "                df.iloc[4,week] = df.iloc[3,week] * -1\n",
    "                df.iloc[6,week] = df.iloc[8,1]\n",
    "                df.iloc[3,week] += df.iloc[8,1]\n",
    "                if(week-df.iloc[7,1] > 0):\n",
    "                    df.iloc[5,week-df.iloc[7,1]] = df.iloc[8,1]\n",
    "\n",
    "for df in df_list:\n",
    "    print(df)\n",
    "    print('\\n')\n",
    "\n",
    "with pd.ExcelWriter('output.xlsx') as writer:\n",
    "    df_ghp.to_excel(writer, sheet_name='0-GHP',index=False, header=False)\n",
    "    df_glass.to_excel(writer, sheet_name='1-Szyba',index=False, header=False)\n",
    "    df_handle.to_excel(writer, sheet_name='1-Klamka',index=False, header=False)\n",
    "    df_frame.to_excel(writer, sheet_name='1-Rama',index=False, header=False)\n",
    "\n"
   ]
  },
  {
   "cell_type": "markdown",
   "metadata": {},
   "source": [
    "### Poniżej utworzone zostaną tabele z drugim poziomem BOM, na podstawie tabeli z pierwszego poziomu BOM\n"
   ]
  },
  {
   "cell_type": "code",
   "execution_count": 47,
   "metadata": {},
   "outputs": [
    {
     "name": "stdout",
     "output_type": "stream",
     "text": [
      "                              0   1   2   3   4   5   6   7   8   9   10\n",
      "0                        Tydzień   1   2   3   4   5   6   7   8   9  10\n",
      "1      Całkowite zapotrzebowanie          32                            \n",
      "2            Planowane przyjęcia                                        \n",
      "3         Przewidywane na stanie  21  21  19  19  19  19  19  19  19  19\n",
      "4          Zapotrzebowanie netto          11                            \n",
      "5           Planowane zamówienia      30                                \n",
      "6   Planowane przyjęcie zamówień          30                            \n",
      "7                Czas realizacji   1                                    \n",
      "8                Wielkość partii  30                                    \n",
      "9                     Poziom BOM   1                                    \n",
      "10                     Na stanie  21                                    \n",
      "11     Ilość w gotowym produkcie   2                                    \n",
      "\n",
      "\n",
      "                              0   1   2    3   4   5   6   7   8   9   10\n",
      "0                        Tydzień   1   2    3   4   5   6   7   8   9  10\n",
      "1      Całkowite zapotrzebowanie           64                            \n",
      "2            Planowane przyjęcia                                         \n",
      "3         Przewidywane na stanie  19  19  -25  -5  15  15  15  15  15  15\n",
      "4          Zapotrzebowanie netto           45  25   5                    \n",
      "5           Planowane zamówienia  20  20   20                            \n",
      "6   Planowane przyjęcie zamówień           20  20  20                    \n",
      "7                Czas realizacji   2                                     \n",
      "8                Wielkość partii  20                                     \n",
      "9                     Poziom BOM   1                                     \n",
      "10                     Na stanie  19                                     \n",
      "11     Ilość w gotowym produkcie   4                                     \n",
      "\n",
      "\n",
      "                              0   1   2   3   4   5   6   7   8   9   10\n",
      "0                        Tydzień   1   2   3   4   5   6   7   8   9  10\n",
      "1      Całkowite zapotrzebowanie          64                            \n",
      "2            Planowane przyjęcia                                        \n",
      "3         Przewidywane na stanie  35  35  51  51  51  51  51  51  51  51\n",
      "4          Zapotrzebowanie netto          29                            \n",
      "5           Planowane zamówienia  80                                    \n",
      "6   Planowane przyjęcie zamówień          80                            \n",
      "7                Czas realizacji   2                                    \n",
      "8                Wielkość partii  80                                    \n",
      "9                     Poziom BOM   1                                    \n",
      "10                     Na stanie  35                                    \n",
      "11     Ilość w gotowym produkcie   4                                    \n",
      "\n",
      "\n"
     ]
    }
   ],
   "source": [
    "# Specify the dimensions of the DataFrame\n",
    "num_rows = 12\n",
    "num_cols = 11\n",
    "\n",
    "# Create an empty DataFrame with specified dimensions\n",
    "df_rubberSeal = pd.DataFrame(index=range(num_rows), columns=range(num_cols))\n",
    "df_rubberSeal = df_rubberSeal.fillna('')\n",
    "\n",
    "# Create an empty DataFrame with specified dimensions\n",
    "df_aluminiumProfile = pd.DataFrame(index=range(num_rows), columns=range(num_cols))\n",
    "df_aluminiumProfile = df_aluminiumProfile.fillna('')\n",
    "\n",
    "# Create an empty DataFrame with specified dimensions\n",
    "df_cornerSupport = pd.DataFrame(index=range(num_rows), columns=range(num_cols))\n",
    "df_cornerSupport = df_cornerSupport.fillna('')\n",
    "\n",
    "df_list2 = [df_rubberSeal,df_aluminiumProfile,df_cornerSupport]\n",
    "\n",
    "for df in df_list2:\n",
    "\n",
    "    df.iloc[0,0] = 'Tydzień'\n",
    "    # Set up weeks numbers\n",
    "    for week in range(1,11):\n",
    "        df.iloc[0,week] = week\n",
    "\n",
    "    df.iloc[1,0] = 'Całkowite zapotrzebowanie'\n",
    "    df.iloc[2,0] = 'Planowane przyjęcia'\n",
    "    df.iloc[3,0] = 'Przewidywane na stanie'\n",
    "    df.iloc[4,0] = 'Zapotrzebowanie netto'\n",
    "    df.iloc[5,0] = 'Planowane zamówienia'\n",
    "    df.iloc[6,0] = 'Planowane przyjęcie zamówień'\n",
    "    df.iloc[7,0] = 'Czas realizacji'\n",
    "    df.iloc[8,0] = 'Wielkość partii'\n",
    "    df.iloc[9,0] = 'Poziom BOM'\n",
    "    df.iloc[9,1] = 1\n",
    "    df.iloc[10,0] = 'Na stanie'\n",
    "    df.iloc[11,0] = 'Ilość w gotowym produkcie'\n",
    "\n",
    "# Set up on hand qty\n",
    "df_rubberSeal.iloc[10,1] = int(rubberSealOnHand)\n",
    "df_aluminiumProfile.iloc[10,1] = int(aluminiumProfileOnHand)\n",
    "df_cornerSupport.iloc[10,1] = int(cornerSupporOnHand)\n",
    "\n",
    "# Set up lot size\n",
    "df_rubberSeal.iloc[8,1] = 30\n",
    "df_aluminiumProfile.iloc[8,1] = 20\n",
    "df_cornerSupport.iloc[8,1] = 80\n",
    "\n",
    "# Set up production time\n",
    "df_rubberSeal.iloc[7,1] = 1\n",
    "df_aluminiumProfile.iloc[7,1] = 2\n",
    "df_cornerSupport.iloc[7,1] = 2\n",
    "\n",
    "# Set up qty in frame\n",
    "df_rubberSeal.iloc[11,1] = 2\n",
    "df_aluminiumProfile.iloc[11,1] = 4\n",
    "df_cornerSupport.iloc[11,1] = 4\n",
    "\n",
    "\n",
    "# Bring needed values from GHP to each table\n",
    "for df in df_list2:\n",
    "    for week in range (1,11):\n",
    "        if df_frame.iloc[5,week] != '':\n",
    "            df.iloc[1,week] = df_frame.iloc[5,week] * df.iloc[11,1]\n",
    "\n",
    "# Set up predicted on hand\n",
    "for df in df_list2:\n",
    "    df.iloc[3,1]=df.iloc[10,1]\n",
    "    for week in range(2,11):\n",
    "        if df.iloc[1,week] != '':\n",
    "            df.iloc[3,week] = df.iloc[3,week-1] - df.iloc[1,week]\n",
    "            if df.iloc[3,week] < 0:\n",
    "                df.iloc[4,week] = df.iloc[3,week] * -1\n",
    "                df.iloc[6,week] = df.iloc[8,1]\n",
    "                df.iloc[3,week] += df.iloc[8,1]\n",
    "                if(week-df.iloc[7,1] > 0):\n",
    "                    df.iloc[5,week-df.iloc[7,1]] = df.iloc[8,1]\n",
    "            None\n",
    "        else:\n",
    "            df.iloc[3,week] = df.iloc[3,week-1]\n",
    "            if df.iloc[3,week] < 0:\n",
    "                df.iloc[4,week] = df.iloc[3,week] * -1\n",
    "                df.iloc[6,week] = df.iloc[8,1]\n",
    "                df.iloc[3,week] += df.iloc[8,1]\n",
    "                if(week-df.iloc[7,1] > 0):\n",
    "                    df.iloc[5,week-df.iloc[7,1]] = df.iloc[8,1]\n",
    "\n",
    "for df in df_list2:\n",
    "    print(df)\n",
    "    print('\\n')\n"
   ]
  },
  {
   "cell_type": "markdown",
   "metadata": {},
   "source": [
    "### Poniżej znajduje się kod który zapisuje wyniki do pliku excel"
   ]
  },
  {
   "cell_type": "code",
   "execution_count": 46,
   "metadata": {},
   "outputs": [],
   "source": [
    "with pd.ExcelWriter('output.xlsx') as writer:\n",
    "    df_ghp.to_excel(writer, sheet_name='0-GHP',index=False, header=False)\n",
    "    df_glass.to_excel(writer, sheet_name='1-Szyba',index=False, header=False)\n",
    "    df_handle.to_excel(writer, sheet_name='1-Klamka',index=False, header=False)\n",
    "    df_frame.to_excel(writer, sheet_name='1-Rama',index=False, header=False)\n",
    "    df_rubberSeal.to_excel(writer, sheet_name='2-Gumowa uszczelka',index=False, header=False)\n",
    "    df_aluminiumProfile.to_excel(writer, sheet_name='2-Profil aluminiowy',index=False, header=False)\n",
    "    df_cornerSupport.to_excel(writer, sheet_name='2-Wspornik narożny',index=False, header=False)"
   ]
  }
 ],
 "metadata": {
  "kernelspec": {
   "display_name": "Python 3",
   "language": "python",
   "name": "python3"
  },
  "language_info": {
   "codemirror_mode": {
    "name": "ipython",
    "version": 3
   },
   "file_extension": ".py",
   "mimetype": "text/x-python",
   "name": "python",
   "nbconvert_exporter": "python",
   "pygments_lexer": "ipython3",
   "version": "3.11.8"
  }
 },
 "nbformat": 4,
 "nbformat_minor": 2
}
